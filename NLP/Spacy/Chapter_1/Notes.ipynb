{
 "cells": [
  {
   "cell_type": "code",
   "execution_count": 1,
   "metadata": {},
   "outputs": [],
   "source": [
    "import spacy\n",
    "\n",
    "nlp = spacy.load(\"en_core_web_lg\")"
   ]
  },
  {
   "cell_type": "code",
   "execution_count": 8,
   "metadata": {},
   "outputs": [
    {
     "name": "stdout",
     "output_type": "stream",
     "text": [
      "Text        PartOfSpeech  Dependency\n",
      "----        ------------  ----------\n",
      "It          PRON          nsubj     \n",
      "’s          VERB          ccomp     \n",
      "official    NOUN          acomp     \n",
      ":           PUNCT         punct     \n",
      "Apple       PROPN         nsubj     \n",
      "is          AUX           ROOT      \n",
      "the         DET           det       \n",
      "first       ADJ           amod      \n",
      "U.S.        PROPN         nmod      \n",
      "public      ADJ           amod      \n",
      "company     NOUN          attr      \n",
      "to          PART          aux       \n",
      "reach       VERB          relcl     \n",
      "a           DET           det       \n",
      "$           SYM           quantmod  \n",
      "1           NUM           compound  \n",
      "trillion    NUM           nummod    \n",
      "market      NOUN          compound  \n",
      "value       NOUN          dobj      \n",
      "\n",
      "Entity         Label       \n",
      "------         -----       \n",
      "Apple          ORG         \n",
      "first          ORDINAL     \n",
      "U.S.           GPE         \n",
      "$1 trillion    MONEY       \n"
     ]
    }
   ],
   "source": [
    "text = \"It’s official: Apple is the first U.S. public company to reach a $1 trillion market value\"\n",
    "\n",
    "# Process the text\n",
    "doc = nlp(text)\n",
    "\n",
    "print(f\"{'Text':<12}{'PartOfSpeech':<14}{'Dependency':<10}\")\n",
    "print(f\"{'----':<12}{'------------':<14}{'----------':<10}\")\n",
    "for token in doc:\n",
    "    # Get the token text, part-of-speech tag and dependency label\n",
    "    token_text = token.text\n",
    "    token_pos = token.pos_\n",
    "    token_dep = token.dep_\n",
    "    # This is for formatting only\n",
    "    # (<12 - This means assign 12 character 'slots' for this variable when printing,\n",
    "    # the variable takes less than 12 characters to print populate the empty slots\n",
    "    # with whitespace)\n",
    "    print(f\"{token_text:<12}{token_pos:<14}{token_dep:<10}\")\n",
    "\n",
    "print(f\"\\n{'Entity':<15}{'Label':<12}\")\n",
    "print(f\"{'------':<15}{'-----':<12}\")\n",
    "for ent in doc.ents:\n",
    "    print(f\"{ent.text:<15}{ent.label_:<12}\")"
   ]
  },
  {
   "cell_type": "code",
   "execution_count": 14,
   "metadata": {},
   "outputs": [
    {
     "name": "stdout",
     "output_type": "stream",
     "text": [
      "\n",
      "Entity         Label       \n",
      "------         -----       \n",
      "Apple          ORG         \n",
      "\n",
      "Index          Token Text  \n",
      "------         ----------  \n",
      "0              Upcoming       \n",
      "1              iPhone         \n",
      "2              X              \n",
      "3              release        \n",
      "4              date           \n",
      "5              leaked         \n",
      "6              as             \n",
      "7              Apple          \n",
      "8              reveals        \n",
      "9              pre            \n",
      "10             -              \n",
      "11             orders         \n"
     ]
    }
   ],
   "source": [
    "text_2 = \"Upcoming iPhone X release date leaked as Apple reveals pre-orders\"\n",
    "\n",
    "doc_2 = nlp(text_2)\n",
    "\n",
    "print(f\"\\n{'Entity':<15}{'Label':<12}\")\n",
    "print(f\"{'------':<15}{'-----':<12}\")\n",
    "for ent in doc_2.ents:\n",
    "    print(f\"{ent.text:<15}{ent.label_:<12}\")\n",
    "\n",
    "print(f\"\\n{'Index':<15}{'Token Text':<12}\")\n",
    "print(f\"{'------':<15}{'----------':<12}\")\n",
    "for index, token in enumerate(doc_2):\n",
    "    print(f\"{index:<15}{token.text:<15}\")"
   ]
  },
  {
   "cell_type": "code",
   "execution_count": 15,
   "metadata": {},
   "outputs": [
    {
     "name": "stdout",
     "output_type": "stream",
     "text": [
      "\n",
      "Index          Token Text  \n",
      "------         ----------  \n",
      "0              iPhone         \n",
      "1              X              \n"
     ]
    }
   ],
   "source": [
    "missed_entity = doc_2[1:3]\n",
    "\n",
    "print(f\"\\n{'Index':<15}{'Token Text':<12}\")\n",
    "print(f\"{'------':<15}{'----------':<12}\")\n",
    "for index, token in enumerate(missed_entity):\n",
    "    print(f\"{index:<15}{token.text:<15}\")"
   ]
  },
  {
   "cell_type": "code",
   "execution_count": 19,
   "metadata": {},
   "outputs": [
    {
     "name": "stdout",
     "output_type": "stream",
     "text": [
      "(ID, Match_Start, Match_End) -> [(15275443334065424288, 1, 3)]\n",
      "Matches: ['iPhone X']\n"
     ]
    }
   ],
   "source": [
    "from spacy.matcher import Matcher\n",
    "\n",
    "matcher = Matcher(nlp.vocab)\n",
    "\n",
    "pattern = [{\"TEXT\": \"iPhone\"}, {\"TEXT\": \"X\"}]\n",
    "\n",
    "matcher.add(\"IPHONE_X_PATTERN\", [pattern])\n",
    "\n",
    "matches = matcher(doc_2)\n",
    "\n",
    "print(f\"(ID, Match_Start, Match_End) -> {matches}\")\n",
    "print(\"Matches:\", [doc_2[start:end].text for match_id, start, end in matches])"
   ]
  },
  {
   "cell_type": "code",
   "execution_count": 21,
   "metadata": {},
   "outputs": [
    {
     "name": "stdout",
     "output_type": "stream",
     "text": [
      "Total matches found: 3\n",
      "Match found: iOS 7\n",
      "Match found: iOS 11\n",
      "Match found: iOS 10\n"
     ]
    }
   ],
   "source": [
    "doc_3 = nlp(\n",
    "    \"After making the iOS update you won't notice a radical system-wide \"\n",
    "    \"redesign: nothing like the aesthetic upheaval we got with iOS 7. Most of \"\n",
    "    \"iOS 11's furniture remains the same as in iOS 10. But you will discover \"\n",
    "    \"some tweaks once you delve a little deeper.\"\n",
    ")\n",
    "\n",
    "pattern = [{\"TEXT\": \"iOS\"}, {\"IS_DIGIT\": True}]\n",
    "\n",
    "matcher.add(\"IOS_VERSION_PATTERN\", [pattern])\n",
    "\n",
    "matches = matcher(doc_3)\n",
    "\n",
    "print(\"Total matches found:\", len(matches))\n",
    "\n",
    "for _, start, end in matches:\n",
    "    print(\"Match found:\", doc_3[start:end].text)"
   ]
  },
  {
   "cell_type": "code",
   "execution_count": 23,
   "metadata": {},
   "outputs": [
    {
     "name": "stdout",
     "output_type": "stream",
     "text": [
      "Total matches found: 3\n",
      "Match found: downloaded Fortnite\n",
      "Match found: downloading Minecraft\n",
      "Match found: download Winzip\n"
     ]
    }
   ],
   "source": [
    "doc_4 = nlp(\n",
    "    \"i downloaded Fortnite on my laptop and can't open the game at all. Help? \"\n",
    "    \"so when I was downloading Minecraft, I got the Windows version where it \"\n",
    "    \"is the '.zip' folder and I used the default program to unpack it... do \"\n",
    "    \"I also need to download Winzip?\"\n",
    ")\n",
    "\n",
    "pattern = [{\"LEMMA\": \"download\"}, {\"POS\": \"PROPN\"}]\n",
    "\n",
    "matcher.add(\"DOWNLOAD_PATTERN\", [pattern])\n",
    "matches = matcher(doc_4)\n",
    "\n",
    "print(f\"Total matches found: {len(matches)}\")\n",
    "\n",
    "# Iterate over the matches and print the span text\n",
    "for _, start, end in matches:\n",
    "    print(\"Match found:\", doc_4[start:end].text)"
   ]
  },
  {
   "cell_type": "code",
   "execution_count": null,
   "metadata": {},
   "outputs": [],
   "source": []
  }
 ],
 "metadata": {
  "kernelspec": {
   "display_name": "deep",
   "language": "python",
   "name": "python3"
  },
  "language_info": {
   "codemirror_mode": {
    "name": "ipython",
    "version": 3
   },
   "file_extension": ".py",
   "mimetype": "text/x-python",
   "name": "python",
   "nbconvert_exporter": "python",
   "pygments_lexer": "ipython3",
   "version": "3.10.8"
  },
  "orig_nbformat": 4,
  "vscode": {
   "interpreter": {
    "hash": "750b0b0bcdd9fe2e206a310bba2895779907b3630475ba10ada1c3aa2da185e2"
   }
  }
 },
 "nbformat": 4,
 "nbformat_minor": 2
}
